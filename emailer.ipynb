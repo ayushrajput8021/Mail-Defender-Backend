{
 "cells": [
  {
   "cell_type": "raw",
   "metadata": {
    "collapsed": false
   },
   "source": [
    "Importing the dependencies"
   ]
  },
  {
   "cell_type": "code",
   "execution_count": 24,
   "metadata": {
    "ExecuteTime": {
     "end_time": "2023-07-10T23:45:59.415346939Z",
     "start_time": "2023-07-10T23:45:59.320638770Z"
    },
    "collapsed": false
   },
   "outputs": [],
   "source": [
    "import pandas as pd\n",
    "from sklearn.model_selection import train_test_split\n",
    "from sklearn.feature_extraction.text import TfidfVectorizer\n",
    "from sklearn.linear_model import LogisticRegression\n",
    "from sklearn.metrics import accuracy_score"
   ]
  },
  {
   "cell_type": "raw",
   "metadata": {
    "collapsed": false
   },
   "source": [
    "Data Collection and Pre Processing"
   ]
  },
  {
   "cell_type": "code",
   "execution_count": 25,
   "metadata": {
    "ExecuteTime": {
     "end_time": "2023-07-10T23:45:59.546492215Z",
     "start_time": "2023-07-10T23:45:59.329532406Z"
    },
    "collapsed": false
   },
   "outputs": [],
   "source": [
    "# loading the data from csv file to a pandas dataframe\n",
    "raw_mail_data = pd.read_csv('master_data.csv')"
   ]
  },
  {
   "cell_type": "code",
   "execution_count": 26,
   "metadata": {
    "ExecuteTime": {
     "end_time": "2023-07-10T23:45:59.558374545Z",
     "start_time": "2023-07-10T23:45:59.432480221Z"
    },
    "collapsed": false
   },
   "outputs": [
    {
     "name": "stdout",
     "output_type": "stream",
     "text": [
      "      Category                                            Message\n",
      "0          ham  Go until jurong point, crazy.. Available only ...\n",
      "1          ham                      Ok lar... Joking wif u oni...\n",
      "2         spam  Free entry in 2 a wkly comp to win FA Cup fina...\n",
      "3          ham  U dun say so early hor... U c already then say...\n",
      "4          ham  Nah I don't think he goes to usf, he lives aro...\n",
      "...        ...                                                ...\n",
      "10145      ham  fw : crosstex energy , driscoll ranch # 1 , # ...\n",
      "10146      ham  put the 10 on the ft\\r\\nthe transport volumes ...\n",
      "10147      ham  3 / 4 / 2000 and following noms\\r\\nhpl can ' t...\n",
      "10148      ham  industrial worksheets for august 2000 activity...\n",
      "10149     spam  important online banking alert\\r\\ndear valued ...\n",
      "\n",
      "[10150 rows x 2 columns]\n"
     ]
    }
   ],
   "source": [
    "print(raw_mail_data)"
   ]
  },
  {
   "cell_type": "code",
   "execution_count": 27,
   "metadata": {
    "ExecuteTime": {
     "end_time": "2023-07-10T23:45:59.558966662Z",
     "start_time": "2023-07-10T23:45:59.433430433Z"
    },
    "collapsed": false
   },
   "outputs": [],
   "source": [
    "# replace the null values with a null string\n",
    "mail_data = raw_mail_data.where((pd.notnull(raw_mail_data)),'')"
   ]
  },
  {
   "cell_type": "code",
   "execution_count": 28,
   "metadata": {
    "ExecuteTime": {
     "end_time": "2023-07-10T23:45:59.583952338Z",
     "start_time": "2023-07-10T23:45:59.434446262Z"
    },
    "collapsed": false
   },
   "outputs": [
    {
     "data": {
      "text/html": [
       "<div>\n",
       "<style scoped>\n",
       "    .dataframe tbody tr th:only-of-type {\n",
       "        vertical-align: middle;\n",
       "    }\n",
       "\n",
       "    .dataframe tbody tr th {\n",
       "        vertical-align: top;\n",
       "    }\n",
       "\n",
       "    .dataframe thead th {\n",
       "        text-align: right;\n",
       "    }\n",
       "</style>\n",
       "<table border=\"1\" class=\"dataframe\">\n",
       "  <thead>\n",
       "    <tr style=\"text-align: right;\">\n",
       "      <th></th>\n",
       "      <th>Category</th>\n",
       "      <th>Message</th>\n",
       "    </tr>\n",
       "  </thead>\n",
       "  <tbody>\n",
       "    <tr>\n",
       "      <th>0</th>\n",
       "      <td>ham</td>\n",
       "      <td>Go until jurong point, crazy.. Available only ...</td>\n",
       "    </tr>\n",
       "    <tr>\n",
       "      <th>1</th>\n",
       "      <td>ham</td>\n",
       "      <td>Ok lar... Joking wif u oni...</td>\n",
       "    </tr>\n",
       "    <tr>\n",
       "      <th>2</th>\n",
       "      <td>spam</td>\n",
       "      <td>Free entry in 2 a wkly comp to win FA Cup fina...</td>\n",
       "    </tr>\n",
       "    <tr>\n",
       "      <th>3</th>\n",
       "      <td>ham</td>\n",
       "      <td>U dun say so early hor... U c already then say...</td>\n",
       "    </tr>\n",
       "    <tr>\n",
       "      <th>4</th>\n",
       "      <td>ham</td>\n",
       "      <td>Nah I don't think he goes to usf, he lives aro...</td>\n",
       "    </tr>\n",
       "  </tbody>\n",
       "</table>\n",
       "</div>"
      ],
      "text/plain": [
       "  Category                                            Message\n",
       "0      ham  Go until jurong point, crazy.. Available only ...\n",
       "1      ham                      Ok lar... Joking wif u oni...\n",
       "2     spam  Free entry in 2 a wkly comp to win FA Cup fina...\n",
       "3      ham  U dun say so early hor... U c already then say...\n",
       "4      ham  Nah I don't think he goes to usf, he lives aro..."
      ]
     },
     "execution_count": 28,
     "metadata": {},
     "output_type": "execute_result"
    }
   ],
   "source": [
    "mail_data.head()"
   ]
  },
  {
   "cell_type": "code",
   "execution_count": 29,
   "metadata": {
    "ExecuteTime": {
     "end_time": "2023-07-10T23:45:59.585379398Z",
     "start_time": "2023-07-10T23:45:59.435408169Z"
    },
    "collapsed": false
   },
   "outputs": [
    {
     "data": {
      "text/plain": [
       "(10150, 2)"
      ]
     },
     "execution_count": 29,
     "metadata": {},
     "output_type": "execute_result"
    }
   ],
   "source": [
    "# checking the number of rows and columns in the dataframe\n",
    "mail_data.shape"
   ]
  },
  {
   "cell_type": "markdown",
   "metadata": {
    "collapsed": false
   },
   "source": [
    "Label encoding"
   ]
  },
  {
   "cell_type": "code",
   "execution_count": 30,
   "metadata": {
    "ExecuteTime": {
     "end_time": "2023-07-10T23:45:59.586148123Z",
     "start_time": "2023-07-10T23:45:59.478115489Z"
    },
    "collapsed": false
   },
   "outputs": [],
   "source": [
    "# label spam mail as 0,ham mail as 1\n",
    "mail_data.loc[mail_data['Category']=='spam','Category',]=0\n",
    "mail_data.loc[mail_data['Category']=='ham','Category',]=1"
   ]
  },
  {
   "cell_type": "code",
   "execution_count": 31,
   "metadata": {
    "ExecuteTime": {
     "end_time": "2023-07-10T23:45:59.586494001Z",
     "start_time": "2023-07-10T23:45:59.478920564Z"
    },
    "collapsed": false
   },
   "outputs": [],
   "source": [
    "#separating the data as text and label\n",
    "X = mail_data['Message']\n",
    "Y = mail_data['Category']"
   ]
  },
  {
   "cell_type": "code",
   "execution_count": 32,
   "metadata": {
    "ExecuteTime": {
     "end_time": "2023-07-10T23:45:59.587182842Z",
     "start_time": "2023-07-10T23:45:59.479719683Z"
    },
    "collapsed": false
   },
   "outputs": [
    {
     "name": "stdout",
     "output_type": "stream",
     "text": [
      "0        Go until jurong point, crazy.. Available only ...\n",
      "1                            Ok lar... Joking wif u oni...\n",
      "2        Free entry in 2 a wkly comp to win FA Cup fina...\n",
      "3        U dun say so early hor... U c already then say...\n",
      "4        Nah I don't think he goes to usf, he lives aro...\n",
      "                               ...                        \n",
      "10145    fw : crosstex energy , driscoll ranch # 1 , # ...\n",
      "10146    put the 10 on the ft\\r\\nthe transport volumes ...\n",
      "10147    3 / 4 / 2000 and following noms\\r\\nhpl can ' t...\n",
      "10148    industrial worksheets for august 2000 activity...\n",
      "10149    important online banking alert\\r\\ndear valued ...\n",
      "Name: Message, Length: 10150, dtype: object\n"
     ]
    }
   ],
   "source": [
    "print(X)"
   ]
  },
  {
   "cell_type": "code",
   "execution_count": 33,
   "metadata": {
    "ExecuteTime": {
     "end_time": "2023-07-10T23:45:59.588078425Z",
     "start_time": "2023-07-10T23:45:59.480709225Z"
    },
    "collapsed": false
   },
   "outputs": [
    {
     "name": "stdout",
     "output_type": "stream",
     "text": [
      "0        1\n",
      "1        1\n",
      "2        0\n",
      "3        1\n",
      "4        1\n",
      "        ..\n",
      "10145    1\n",
      "10146    1\n",
      "10147    1\n",
      "10148    1\n",
      "10149    0\n",
      "Name: Category, Length: 10150, dtype: object\n"
     ]
    }
   ],
   "source": [
    "print(Y)"
   ]
  },
  {
   "cell_type": "markdown",
   "metadata": {
    "collapsed": false
   },
   "source": [
    "Splitting the data into training data and test data"
   ]
  },
  {
   "cell_type": "code",
   "execution_count": 34,
   "metadata": {
    "ExecuteTime": {
     "end_time": "2023-07-10T23:45:59.591186517Z",
     "start_time": "2023-07-10T23:45:59.481762263Z"
    },
    "collapsed": false
   },
   "outputs": [
    {
     "data": {
      "text/plain": [
       "pandas.core.series.Series"
      ]
     },
     "execution_count": 34,
     "metadata": {},
     "output_type": "execute_result"
    }
   ],
   "source": [
    "X_train,X_test,Y_train,Y_test=train_test_split(X,Y,test_size=0.1,random_state=1)\n",
    "type(Y_train)"
   ]
  },
  {
   "cell_type": "code",
   "execution_count": 35,
   "metadata": {
    "ExecuteTime": {
     "end_time": "2023-07-10T23:45:59.592221246Z",
     "start_time": "2023-07-10T23:45:59.526634628Z"
    },
    "collapsed": false
   },
   "outputs": [
    {
     "name": "stdout",
     "output_type": "stream",
     "text": [
      "(10150,)\n",
      "(9135,)\n",
      "(1015,)\n"
     ]
    }
   ],
   "source": [
    "print(X.shape)\n",
    "print(X_train.shape)\n",
    "print(X_test.shape)"
   ]
  },
  {
   "cell_type": "markdown",
   "metadata": {
    "collapsed": false
   },
   "source": [
    "Feature Extraction"
   ]
  },
  {
   "cell_type": "code",
   "execution_count": 36,
   "metadata": {
    "ExecuteTime": {
     "end_time": "2023-07-10T23:46:00.423414767Z",
     "start_time": "2023-07-10T23:45:59.527782283Z"
    },
    "collapsed": false
   },
   "outputs": [],
   "source": [
    "# transform the text data to feature vectors that can be used as input to the logistic regression\n",
    "feature_extraction = TfidfVectorizer(min_df=1,stop_words='english',lowercase=True)\n",
    "X_train_features = feature_extraction.fit_transform(X_train)\n",
    "X_test_features = feature_extraction.transform(X_test)\n",
    "# convert Y_train and Y_test values as integers\n",
    "Y_train=Y_train.astype('int')\n",
    "Y_test = Y_test.astype('int')"
   ]
  },
  {
   "cell_type": "code",
   "execution_count": 37,
   "metadata": {
    "ExecuteTime": {
     "end_time": "2023-07-10T23:46:00.470822186Z",
     "start_time": "2023-07-10T23:46:00.428648152Z"
    },
    "collapsed": false
   },
   "outputs": [
    {
     "name": "stdout",
     "output_type": "stream",
     "text": [
      "  (0, 45104)\t0.033388202750441714\n",
      "  (0, 43242)\t0.070948264663653\n",
      "  (0, 28166)\t0.03456332582238586\n",
      "  (0, 29059)\t0.03821026680466855\n",
      "  (0, 37276)\t0.08208454530103693\n",
      "  (0, 22720)\t0.048294113900067166\n",
      "  (0, 219)\t0.04751720733758112\n",
      "  (0, 23242)\t0.08668817352551622\n",
      "  (0, 30257)\t0.04526340572511541\n",
      "  (0, 29663)\t0.05052615325520958\n",
      "  (0, 46327)\t0.05692904489311656\n",
      "  (0, 45084)\t0.04618658214669718\n",
      "  (0, 1659)\t0.048261995224533595\n",
      "  (0, 45876)\t0.06961096264562602\n",
      "  (0, 45728)\t0.05538716176851273\n",
      "  (0, 45665)\t0.0439178970249606\n",
      "  (0, 39406)\t0.06786074442392363\n",
      "  (0, 33937)\t0.052348377129908925\n",
      "  (0, 48671)\t0.04819802917236119\n",
      "  (0, 28677)\t0.0598119840262691\n",
      "  (0, 17132)\t0.07835472844546358\n",
      "  (0, 29977)\t0.20485616477475888\n",
      "  (0, 46217)\t0.17990899946393707\n",
      "  (0, 49335)\t0.048720141583497335\n",
      "  (0, 37633)\t0.07790941865567894\n",
      "  :\t:\n",
      "  (9133, 1361)\t0.020751155560460543\n",
      "  (9133, 0)\t0.20860605576913152\n",
      "  (9133, 45084)\t0.02165888964090903\n",
      "  (9133, 1659)\t0.04526428152220402\n",
      "  (9133, 43796)\t0.031233493753516757\n",
      "  (9133, 1178)\t0.04799214958253702\n",
      "  (9133, 501)\t0.01725422722098757\n",
      "  (9133, 37045)\t0.02089029238924727\n",
      "  (9133, 13634)\t0.029983269585787606\n",
      "  (9134, 45169)\t0.3354541301056954\n",
      "  (9134, 7426)\t0.3043069185021607\n",
      "  (9134, 29722)\t0.3465037792691059\n",
      "  (9134, 49081)\t0.30883087514051755\n",
      "  (9134, 17477)\t0.20144802618817303\n",
      "  (9134, 6706)\t0.23921878830067791\n",
      "  (9134, 14540)\t0.1914385360065792\n",
      "  (9134, 7431)\t0.3354541301056954\n",
      "  (9134, 40734)\t0.1942502229675746\n",
      "  (9134, 42110)\t0.23274211842160347\n",
      "  (9134, 27948)\t0.2932572693387502\n",
      "  (9134, 35593)\t0.19889592055701286\n",
      "  (9134, 33004)\t0.13366806943786658\n",
      "  (9134, 21537)\t0.2199131969682702\n",
      "  (9134, 47166)\t0.17724505129578103\n",
      "  (9134, 27579)\t0.13166280345255885\n"
     ]
    }
   ],
   "source": [
    "print(X_train_features)"
   ]
  },
  {
   "cell_type": "markdown",
   "metadata": {
    "collapsed": false
   },
   "source": [
    "Training the Model"
   ]
  },
  {
   "cell_type": "code",
   "execution_count": 38,
   "metadata": {
    "ExecuteTime": {
     "end_time": "2023-07-10T23:46:00.471811201Z",
     "start_time": "2023-07-10T23:46:00.470406069Z"
    },
    "collapsed": false
   },
   "outputs": [],
   "source": [
    "model = LogisticRegression()"
   ]
  },
  {
   "cell_type": "code",
   "execution_count": 39,
   "metadata": {
    "ExecuteTime": {
     "end_time": "2023-07-10T23:46:01.350464260Z",
     "start_time": "2023-07-10T23:46:00.471495093Z"
    },
    "collapsed": false
   },
   "outputs": [
    {
     "data": {
      "text/html": [
       "<style>#sk-container-id-2 {color: black;}#sk-container-id-2 pre{padding: 0;}#sk-container-id-2 div.sk-toggleable {background-color: white;}#sk-container-id-2 label.sk-toggleable__label {cursor: pointer;display: block;width: 100%;margin-bottom: 0;padding: 0.3em;box-sizing: border-box;text-align: center;}#sk-container-id-2 label.sk-toggleable__label-arrow:before {content: \"▸\";float: left;margin-right: 0.25em;color: #696969;}#sk-container-id-2 label.sk-toggleable__label-arrow:hover:before {color: black;}#sk-container-id-2 div.sk-estimator:hover label.sk-toggleable__label-arrow:before {color: black;}#sk-container-id-2 div.sk-toggleable__content {max-height: 0;max-width: 0;overflow: hidden;text-align: left;background-color: #f0f8ff;}#sk-container-id-2 div.sk-toggleable__content pre {margin: 0.2em;color: black;border-radius: 0.25em;background-color: #f0f8ff;}#sk-container-id-2 input.sk-toggleable__control:checked~div.sk-toggleable__content {max-height: 200px;max-width: 100%;overflow: auto;}#sk-container-id-2 input.sk-toggleable__control:checked~label.sk-toggleable__label-arrow:before {content: \"▾\";}#sk-container-id-2 div.sk-estimator input.sk-toggleable__control:checked~label.sk-toggleable__label {background-color: #d4ebff;}#sk-container-id-2 div.sk-label input.sk-toggleable__control:checked~label.sk-toggleable__label {background-color: #d4ebff;}#sk-container-id-2 input.sk-hidden--visually {border: 0;clip: rect(1px 1px 1px 1px);clip: rect(1px, 1px, 1px, 1px);height: 1px;margin: -1px;overflow: hidden;padding: 0;position: absolute;width: 1px;}#sk-container-id-2 div.sk-estimator {font-family: monospace;background-color: #f0f8ff;border: 1px dotted black;border-radius: 0.25em;box-sizing: border-box;margin-bottom: 0.5em;}#sk-container-id-2 div.sk-estimator:hover {background-color: #d4ebff;}#sk-container-id-2 div.sk-parallel-item::after {content: \"\";width: 100%;border-bottom: 1px solid gray;flex-grow: 1;}#sk-container-id-2 div.sk-label:hover label.sk-toggleable__label {background-color: #d4ebff;}#sk-container-id-2 div.sk-serial::before {content: \"\";position: absolute;border-left: 1px solid gray;box-sizing: border-box;top: 0;bottom: 0;left: 50%;z-index: 0;}#sk-container-id-2 div.sk-serial {display: flex;flex-direction: column;align-items: center;background-color: white;padding-right: 0.2em;padding-left: 0.2em;position: relative;}#sk-container-id-2 div.sk-item {position: relative;z-index: 1;}#sk-container-id-2 div.sk-parallel {display: flex;align-items: stretch;justify-content: center;background-color: white;position: relative;}#sk-container-id-2 div.sk-item::before, #sk-container-id-2 div.sk-parallel-item::before {content: \"\";position: absolute;border-left: 1px solid gray;box-sizing: border-box;top: 0;bottom: 0;left: 50%;z-index: -1;}#sk-container-id-2 div.sk-parallel-item {display: flex;flex-direction: column;z-index: 1;position: relative;background-color: white;}#sk-container-id-2 div.sk-parallel-item:first-child::after {align-self: flex-end;width: 50%;}#sk-container-id-2 div.sk-parallel-item:last-child::after {align-self: flex-start;width: 50%;}#sk-container-id-2 div.sk-parallel-item:only-child::after {width: 0;}#sk-container-id-2 div.sk-dashed-wrapped {border: 1px dashed gray;margin: 0 0.4em 0.5em 0.4em;box-sizing: border-box;padding-bottom: 0.4em;background-color: white;}#sk-container-id-2 div.sk-label label {font-family: monospace;font-weight: bold;display: inline-block;line-height: 1.2em;}#sk-container-id-2 div.sk-label-container {text-align: center;}#sk-container-id-2 div.sk-container {/* jupyter's `normalize.less` sets `[hidden] { display: none; }` but bootstrap.min.css set `[hidden] { display: none !important; }` so we also need the `!important` here to be able to override the default hidden behavior on the sphinx rendered scikit-learn.org. See: https://github.com/scikit-learn/scikit-learn/issues/21755 */display: inline-block !important;position: relative;}#sk-container-id-2 div.sk-text-repr-fallback {display: none;}</style><div id=\"sk-container-id-2\" class=\"sk-top-container\"><div class=\"sk-text-repr-fallback\"><pre>LogisticRegression()</pre><b>In a Jupyter environment, please rerun this cell to show the HTML representation or trust the notebook. <br />On GitHub, the HTML representation is unable to render, please try loading this page with nbviewer.org.</b></div><div class=\"sk-container\" hidden><div class=\"sk-item\"><div class=\"sk-estimator sk-toggleable\"><input class=\"sk-toggleable__control sk-hidden--visually\" id=\"sk-estimator-id-2\" type=\"checkbox\" checked><label for=\"sk-estimator-id-2\" class=\"sk-toggleable__label sk-toggleable__label-arrow\">LogisticRegression</label><div class=\"sk-toggleable__content\"><pre>LogisticRegression()</pre></div></div></div></div></div>"
      ],
      "text/plain": [
       "LogisticRegression()"
      ]
     },
     "execution_count": 39,
     "metadata": {},
     "output_type": "execute_result"
    }
   ],
   "source": [
    "model.fit(X_train_features,Y_train)"
   ]
  },
  {
   "cell_type": "markdown",
   "metadata": {
    "collapsed": false
   },
   "source": [
    "Evaluating the model"
   ]
  },
  {
   "cell_type": "code",
   "execution_count": 40,
   "metadata": {
    "ExecuteTime": {
     "end_time": "2023-07-10T23:46:01.384120937Z",
     "start_time": "2023-07-10T23:46:01.317584680Z"
    },
    "collapsed": false
   },
   "outputs": [],
   "source": [
    "prediction_on_training_model = model.predict(X_train_features)\n",
    "accuracy_on_training_data = accuracy_score(Y_train,prediction_on_training_model)"
   ]
  },
  {
   "cell_type": "code",
   "execution_count": 41,
   "metadata": {
    "ExecuteTime": {
     "end_time": "2023-07-10T23:46:01.385465068Z",
     "start_time": "2023-07-10T23:46:01.361802422Z"
    },
    "collapsed": false
   },
   "outputs": [
    {
     "name": "stdout",
     "output_type": "stream",
     "text": [
      "Accuracy on training data:  0.9552271483305966\n"
     ]
    }
   ],
   "source": [
    "print(\"Accuracy on training data: \",accuracy_on_training_data)"
   ]
  },
  {
   "cell_type": "code",
   "execution_count": 42,
   "metadata": {
    "ExecuteTime": {
     "end_time": "2023-07-10T23:46:01.387496402Z",
     "start_time": "2023-07-10T23:46:01.362224957Z"
    },
    "collapsed": false
   },
   "outputs": [],
   "source": [
    "prediction_on_test_data = model.predict(X_test_features)\n",
    "accuracy_on_test_data = accuracy_score(Y_test,prediction_on_test_data)"
   ]
  },
  {
   "cell_type": "code",
   "execution_count": 43,
   "metadata": {
    "ExecuteTime": {
     "end_time": "2023-07-10T23:46:01.459851071Z",
     "start_time": "2023-07-10T23:46:01.362568809Z"
    },
    "collapsed": false
   },
   "outputs": [
    {
     "name": "stdout",
     "output_type": "stream",
     "text": [
      "Accuracy on test data:  0.9408866995073891\n"
     ]
    }
   ],
   "source": [
    "print(\"Accuracy on test data: \",accuracy_on_test_data)"
   ]
  },
  {
   "cell_type": "markdown",
   "metadata": {
    "collapsed": false
   },
   "source": [
    "Predictive System"
   ]
  },
  {
   "cell_type": "code",
   "execution_count": 44,
   "metadata": {
    "ExecuteTime": {
     "end_time": "2023-07-10T23:46:01.460543122Z",
     "start_time": "2023-07-10T23:46:01.413896585Z"
    },
    "collapsed": false
   },
   "outputs": [
    {
     "name": "stdout",
     "output_type": "stream",
     "text": [
      "[0]\n"
     ]
    }
   ],
   "source": [
    "input_mail=[\"A vulnerability has been identified in the Apple Facetime mobile applications that allow an attacker to record calls and videos from your mobile device without your knowledge. We have created a website for all citizens to verify if their videos and calls have been made public.\"]\n",
    "input_data_features = feature_extraction.transform(input_mail)\n",
    "prediction = model.predict(input_data_features)\n",
    "print(prediction)"
   ]
  },
  {
   "cell_type": "code",
   "execution_count": 46,
   "metadata": {},
   "outputs": [],
   "source": [
    "import pickle\n",
    "filename='trained_model.sav'\n",
    "pickle.dump(model,open(filename,'wb'))\n",
    "pickle.dump(feature_extraction,open('feature_extraction.sav','wb'))"
   ]
  },
  {
   "cell_type": "code",
   "execution_count": 45,
   "metadata": {},
   "outputs": [
    {
     "data": {
      "text/plain": [
       "['Model.joblib']"
      ]
     },
     "execution_count": 45,
     "metadata": {},
     "output_type": "execute_result"
    }
   ],
   "source": [
    "import joblib\n",
    "joblib.dump(model,'Model.joblib')"
   ]
  }
 ],
 "metadata": {
  "kernelspec": {
   "display_name": "Python 3",
   "language": "python",
   "name": "python3"
  },
  "language_info": {
   "codemirror_mode": {
    "name": "ipython",
    "version": 3
   },
   "file_extension": ".py",
   "mimetype": "text/x-python",
   "name": "python",
   "nbconvert_exporter": "python",
   "pygments_lexer": "ipython3",
   "version": "3.12.0"
  }
 },
 "nbformat": 4,
 "nbformat_minor": 0
}
